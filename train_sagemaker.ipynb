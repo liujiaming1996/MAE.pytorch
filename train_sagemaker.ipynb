{
 "cells": [
  {
   "cell_type": "code",
   "execution_count": null,
   "metadata": {},
   "outputs": [],
   "source": [
    "%%time\n",
    "! python3 -m pip install --upgrade sagemaker\n",
    "import sagemaker"
   ]
  },
  {
   "cell_type": "code",
   "execution_count": null,
   "metadata": {},
   "outputs": [],
   "source": [
    "sagemaker_session = sagemaker.Session(default_bucket='cvpr-derrick')\n",
    "bucket = 'cvpr-derrick'\n",
    "role = sagemaker.get_execution_role()\n",
    "role_name = role.split([\"/\"][-1])\n",
    "print(f\"The Amazon Resource Name (ARN) of the role used for this demo is: {role}\")\n",
    "print(f\"The name of the role used for this demo is: {role_name[-1]}\")"
   ]
  },
  {
   "cell_type": "code",
   "execution_count": null,
   "metadata": {},
   "outputs": [],
   "source": [
    "# Setting up File-system to import data from S3\n",
    "train_data_s3 = 's3://{}/{}'.format(bucket, 'ImageNet/lmdb')\n",
    "train_output_s3 = 's3://{}/{}'.format(bucket, 'Output_MAE')\n",
    "data_channels = {'train': sagemaker.inputs.TrainingInput(\n",
    "                                    s3_data_type='S3Prefix',\n",
    "                                    s3_data=train_data_s3,\n",
    "                                    input_mode='File')}\n",
    "print(data_channels, train_output_s3)"
   ]
  },
  {
   "cell_type": "code",
   "execution_count": null,
   "metadata": {},
   "outputs": [],
   "source": [
    "instance_type = \"ml.p4d.24xlarge\"  # Other supported instance type: ml.p3.16xlarge, ml.p4d.24xlarge\n",
    "instance_count = 2  # You can use 2, 4, 8 etc.\n",
    "docker_image = \"509553677659.dkr.ecr.us-east-1.amazonaws.com/derrick-smdataparallel-sagemaker:1.0\"  # YOUR_ECR_IMAGE_BUILT_WITH_ABOVE_DOCKER_FILE\n",
    "job_name = \"MAE-pytorch-2node\"  # This job name is used as prefix to the sagemaker training job. Makes it easy for your look for your training job in SageMaker Training job console."
   ]
  },
  {
   "cell_type": "code",
   "execution_count": null,
   "metadata": {},
   "outputs": [],
   "source": [
    "ONE_DAY = 24 * 60 * 60\n",
    "hyperparameters = {\n",
    "    \"normlize_target\" : True,\n",
    "    \"mask_ratio\" : 0.75,\n",
    "    \"model\" : \"pretrain_mae_base_patch16_224\",\n",
    "    \"batch_size\" : 512,\n",
    "    \"num_workers\" : 8,\n",
    "    \"opt\" : \"adamw\",\n",
    "    \"warmup_epochs\" : 40,\n",
    "    \"epochs\" : 800,\n",
    "    \"save_ckpt_freq\" : 80,\n",
    "    \"output_dir\" : \"pretrain/mae_800ep_bs8192_base_size224_patch16_mask75_decdepth8_decdim512_norm_pos2d_mmseg\"\n",
    "}"
   ]
  },
  {
   "cell_type": "code",
   "execution_count": null,
   "metadata": {},
   "outputs": [],
   "source": [
    "import os\n",
    "from sagemaker.pytorch import PyTorch\n",
    "estimator = PyTorch(\n",
    "    base_job_name=job_name,\n",
    "    source_dir=\"./\",\n",
    "    entry_point=\"main_unsup.py\",\n",
    "    role=role,\n",
    "    image_uri=docker_image,\n",
    "    max_run=ONE_DAY * 5,\n",
    "    instance_count=instance_count,\n",
    "    instance_type=instance_type,\n",
    "    framework_version=\"1.9.1\",\n",
    "    py_version=\"py38\",\n",
    "    sagemaker_session=sagemaker_session,\n",
    "    hyperparameters=hyperparameters,\n",
    "    output_path=train_output_s3,\n",
    "    debugger_hook_config=False,\n",
    "    # Training using SMDataParallel Distributed Training Framework\n",
    "    distribution={\"smdistributed\": {\"dataparallel\": {\"enabled\": True}}},\n",
    ")"
   ]
  },
  {
   "cell_type": "code",
   "execution_count": null,
   "metadata": {},
   "outputs": [],
   "source": [
    "estimator.fit(inputs=data_channels)"
   ]
  },
  {
   "cell_type": "code",
   "execution_count": null,
   "metadata": {},
   "outputs": [],
   "source": [
    "model_data = estimator.model_data\n",
    "print(\"Storing {} as model_data\".format(model_data))\n",
    "%store model_data"
   ]
  },
  {
   "cell_type": "code",
   "execution_count": null,
   "metadata": {},
   "outputs": [],
   "source": []
  }
 ],
 "metadata": {
  "kernelspec": {
   "display_name": "Python 3 (PyTorch 1.6 Python 3.6 CPU Optimized)",
   "language": "python",
   "name": "python3__SAGEMAKER_INTERNAL__arn:aws:sagemaker:us-east-1:081325390199:image/pytorch-1.6-cpu-py36-ubuntu16.04-v1"
  },
  "language_info": {
   "codemirror_mode": {
    "name": "ipython",
    "version": 3
   },
   "file_extension": ".py",
   "mimetype": "text/x-python",
   "name": "python",
   "nbconvert_exporter": "python",
   "pygments_lexer": "ipython3",
   "version": "3.6.13"
  }
 },
 "nbformat": 4,
 "nbformat_minor": 4
}
